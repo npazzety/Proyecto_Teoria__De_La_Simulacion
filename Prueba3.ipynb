{
 "cells": [
  {
   "cell_type": "code",
   "execution_count": 1,
   "metadata": {},
   "outputs": [
    {
     "name": "stdout",
     "output_type": "stream",
     "text": [
      "   Age  Gender  Weight (kg)  Height (m)  Max_BPM  Avg_BPM  Resting_BPM  \\\n",
      "0   56    Male         88.3        1.71      180      157           60   \n",
      "1   46  Female         74.9        1.53      179      151           66   \n",
      "2   32  Female         68.1        1.66      167      122           54   \n",
      "3   25    Male         53.2        1.70      190      164           56   \n",
      "4   38    Male         46.1        1.79      188      158           68   \n",
      "\n",
      "   Session_Duration (hours)  Calories_Burned Workout_Type  Fat_Percentage  \\\n",
      "0                      1.69           1313.0         Yoga            12.6   \n",
      "1                      1.30            883.0         HIIT            33.9   \n",
      "2                      1.11            677.0       Cardio            33.4   \n",
      "3                      0.59            532.0     Strength            28.8   \n",
      "4                      0.64            556.0     Strength            29.2   \n",
      "\n",
      "   Water_Intake (liters)  Workout_Frequency (days/week)  Experience_Level  \\\n",
      "0                    3.5                              4                 3   \n",
      "1                    2.1                              4                 2   \n",
      "2                    2.3                              4                 2   \n",
      "3                    2.1                              3                 1   \n",
      "4                    2.8                              3                 1   \n",
      "\n",
      "     BMI  \n",
      "0  30.20  \n",
      "1  32.00  \n",
      "2  24.71  \n",
      "3  18.41  \n",
      "4  14.39  \n"
     ]
    }
   ],
   "source": [
    "import pandas as pd\n",
    "\n",
    "# Cargar el dataset\n",
    "df = pd.read_csv(\"gym_members_exercise_tracking.csv\")\n",
    "\n",
    "# Mostrar las primeras filas\n",
    "print(df.head())\n"
   ]
  },
  {
   "cell_type": "code",
   "execution_count": 2,
   "metadata": {},
   "outputs": [
    {
     "name": "stdout",
     "output_type": "stream",
     "text": [
      "Número de registros: 973\n",
      "Número de columnas: 15\n"
     ]
    }
   ],
   "source": [
    "# Verificar la cantidad de registros y columnas\n",
    "print(f\"Número de registros: {df.shape[0]}\")\n",
    "print(f\"Número de columnas: {df.shape[1]}\")\n"
   ]
  },
  {
   "cell_type": "code",
   "execution_count": 3,
   "metadata": {},
   "outputs": [
    {
     "name": "stdout",
     "output_type": "stream",
     "text": [
      "Variables categóricas: ['Gender', 'Workout_Type']\n",
      "Variables numéricas: ['Age', 'Weight (kg)', 'Height (m)', 'Max_BPM', 'Avg_BPM', 'Resting_BPM', 'Session_Duration (hours)', 'Calories_Burned', 'Fat_Percentage', 'Water_Intake (liters)', 'Workout_Frequency (days/week)', 'Experience_Level', 'BMI']\n"
     ]
    }
   ],
   "source": [
    "# Variables categóricas\n",
    "categorical_cols = df.select_dtypes(include=['object', 'category']).columns\n",
    "\n",
    "# Variables numéricas\n",
    "numerical_cols = df.select_dtypes(include=['number']).columns\n",
    "\n",
    "print(f\"Variables categóricas: {list(categorical_cols)}\")\n",
    "print(f\"Variables numéricas: {list(numerical_cols)}\")\n"
   ]
  },
  {
   "cell_type": "code",
   "execution_count": 4,
   "metadata": {},
   "outputs": [
    {
     "name": "stdout",
     "output_type": "stream",
     "text": [
      "Age                              0\n",
      "Gender                           0\n",
      "Weight (kg)                      0\n",
      "Height (m)                       0\n",
      "Max_BPM                          0\n",
      "Avg_BPM                          0\n",
      "Resting_BPM                      0\n",
      "Session_Duration (hours)         0\n",
      "Calories_Burned                  0\n",
      "Workout_Type                     0\n",
      "Fat_Percentage                   0\n",
      "Water_Intake (liters)            0\n",
      "Workout_Frequency (days/week)    0\n",
      "Experience_Level                 0\n",
      "BMI                              0\n",
      "dtype: int64\n"
     ]
    }
   ],
   "source": [
    "# Verificar si hay valores faltantes\n",
    "print(df.isnull().sum())\n"
   ]
  },
  {
   "cell_type": "code",
   "execution_count": 5,
   "metadata": {},
   "outputs": [
    {
     "name": "stdout",
     "output_type": "stream",
     "text": [
      "              Age  Weight (kg)  Height (m)     Max_BPM     Avg_BPM  \\\n",
      "count  973.000000   973.000000   973.00000  973.000000  973.000000   \n",
      "mean    38.683453    73.854676     1.72258  179.883864  143.766701   \n",
      "std     12.180928    21.207500     0.12772   11.525686   14.345101   \n",
      "min     18.000000    40.000000     1.50000  160.000000  120.000000   \n",
      "25%     28.000000    58.100000     1.62000  170.000000  131.000000   \n",
      "50%     40.000000    70.000000     1.71000  180.000000  143.000000   \n",
      "75%     49.000000    86.000000     1.80000  190.000000  156.000000   \n",
      "max     59.000000   129.900000     2.00000  199.000000  169.000000   \n",
      "\n",
      "       Resting_BPM  Session_Duration (hours)  Calories_Burned  Fat_Percentage  \\\n",
      "count   973.000000                973.000000       973.000000      973.000000   \n",
      "mean     62.223022                  1.256423       905.422405       24.976773   \n",
      "std       7.327060                  0.343033       272.641516        6.259419   \n",
      "min      50.000000                  0.500000       303.000000       10.000000   \n",
      "25%      56.000000                  1.040000       720.000000       21.300000   \n",
      "50%      62.000000                  1.260000       893.000000       26.200000   \n",
      "75%      68.000000                  1.460000      1076.000000       29.300000   \n",
      "max      74.000000                  2.000000      1783.000000       35.000000   \n",
      "\n",
      "       Water_Intake (liters)  Workout_Frequency (days/week)  Experience_Level  \\\n",
      "count             973.000000                     973.000000        973.000000   \n",
      "mean                2.626619                       3.321686          1.809866   \n",
      "std                 0.600172                       0.913047          0.739693   \n",
      "min                 1.500000                       2.000000          1.000000   \n",
      "25%                 2.200000                       3.000000          1.000000   \n",
      "50%                 2.600000                       3.000000          2.000000   \n",
      "75%                 3.100000                       4.000000          2.000000   \n",
      "max                 3.700000                       5.000000          3.000000   \n",
      "\n",
      "              BMI  \n",
      "count  973.000000  \n",
      "mean    24.912127  \n",
      "std      6.660879  \n",
      "min     12.320000  \n",
      "25%     20.110000  \n",
      "50%     24.160000  \n",
      "75%     28.560000  \n",
      "max     49.840000  \n"
     ]
    }
   ],
   "source": [
    "# Estadísticas descriptivas de las variables numéricas\n",
    "print(df[numerical_cols].describe())\n"
   ]
  },
  {
   "cell_type": "code",
   "execution_count": 6,
   "metadata": {},
   "outputs": [
    {
     "name": "stdout",
     "output_type": "stream",
     "text": [
      "\n",
      "Distribución de Gender:\n",
      "Gender\n",
      "Male      0.52518\n",
      "Female    0.47482\n",
      "Name: proportion, dtype: float64\n",
      "\n",
      "Distribución de Workout_Type:\n",
      "Workout_Type\n",
      "Strength    0.265159\n",
      "Cardio      0.262076\n",
      "Yoga        0.245632\n",
      "HIIT        0.227133\n",
      "Name: proportion, dtype: float64\n"
     ]
    }
   ],
   "source": [
    "# Verificar la distribución de las variables categóricas\n",
    "for col in categorical_cols:\n",
    "    print(f\"\\nDistribución de {col}:\")\n",
    "    print(df[col].value_counts(normalize=True))  # Proporciones de cada categoría\n"
   ]
  },
  {
   "cell_type": "code",
   "execution_count": 7,
   "metadata": {},
   "outputs": [
    {
     "data": {
      "text/plain": [
       "Age                                int64\n",
       "Gender                            object\n",
       "Weight (kg)                      float64\n",
       "Height (m)                       float64\n",
       "Max_BPM                            int64\n",
       "Avg_BPM                            int64\n",
       "Resting_BPM                        int64\n",
       "Session_Duration (hours)         float64\n",
       "Calories_Burned                  float64\n",
       "Workout_Type                      object\n",
       "Fat_Percentage                   float64\n",
       "Water_Intake (liters)            float64\n",
       "Workout_Frequency (days/week)      int64\n",
       "Experience_Level                   int64\n",
       "BMI                              float64\n",
       "dtype: object"
      ]
     },
     "execution_count": 7,
     "metadata": {},
     "output_type": "execute_result"
    }
   ],
   "source": [
    "df.dtypes"
   ]
  },
  {
   "cell_type": "code",
   "execution_count": 9,
   "metadata": {},
   "outputs": [
    {
     "data": {
      "image/png": "[encoded data removed]",
      "text/plain": [
       "<Figure size 1000x600 with 1 Axes>"
      ]
     },
     "metadata": {},
     "output_type": "display_data"
    }
   ],
   "source": [
    "import matplotlib.pyplot as plt\n",
    "import seaborn as sns\n",
    "\n",
    "# Crear un histograma para la columna 'Age'\n",
    "plt.figure(figsize=(10,6))\n",
    "sns.histplot(df['Age'], kde=True, bins=20)  # kde=True agrega la curva de densidad\n",
    "plt.title('Distribución de Edad')\n",
    "plt.xlabel('Edad')\n",
    "plt.ylabel('Frecuencia')\n",
    "plt.show()\n"
   ]
  },
  {
   "cell_type": "code",
   "execution_count": null,
   "metadata": {},
   "outputs": [],
   "source": []
  }
 ],
 "metadata": {
  "kernelspec": {
   "display_name": "base",
   "language": "python",
   "name": "python3"
  },
  "language_info": {
   "codemirror_mode": {
    "name": "ipython",
    "version": 3
   },
   "file_extension": ".py",
   "mimetype": "text/x-python",
   "name": "python",
   "nbconvert_exporter": "python",
   "pygments_lexer": "ipython3",
   "version": "3.12.7"
  }
 },
 "nbformat": 4,
 "nbformat_minor": 2
}
